{
 "cells": [
  {
   "cell_type": "code",
   "execution_count": 6,
   "metadata": {},
   "outputs": [
    {
     "name": "stderr",
     "output_type": "stream",
     "text": [
      "/Library/Frameworks/Python.framework/Versions/3.12/lib/python3.12/site-packages/tqdm/auto.py:21: TqdmWarning: IProgress not found. Please update jupyter and ipywidgets. See https://ipywidgets.readthedocs.io/en/stable/user_install.html\n",
      "  from .autonotebook import tqdm as notebook_tqdm\n"
     ]
    }
   ],
   "source": [
    "from transformers import pipeline"
   ]
  },
  {
   "cell_type": "code",
   "execution_count": 7,
   "metadata": {},
   "outputs": [
    {
     "name": "stderr",
     "output_type": "stream",
     "text": [
      "Hardware accelerator e.g. GPU is available in the environment, but no `device` argument is passed to the `Pipeline` object. Model will be on CPU.\n"
     ]
    }
   ],
   "source": [
    "ai = pipeline(\"text-generation\", model = \"microsoft/DialoGPT-medium\")"
   ]
  },
  {
   "cell_type": "code",
   "execution_count": 8,
   "metadata": {},
   "outputs": [],
   "source": [
    "import requests\n",
    "from bs4 import BeautifulSoup"
   ]
  },
  {
   "cell_type": "code",
   "execution_count": 9,
   "metadata": {},
   "outputs": [],
   "source": [
    "def gluten_free(url):\n",
    "    response = requests.get(url)\n",
    "    soup = BeautifulSoup(response.text, 'html.parser')\n",
    "    recipes = soup.find_all('div', class_='fixed-recipe-card__info')\n",
    "    for recipe in recipes:\n",
    "        title = recipe.find('span', class_='fixed-recipe-card__title-link').text\n",
    "        print(title)\n",
    "\n",
    "def vegan(url):\n",
    "    response = requests.get(url)\n",
    "    soup = BeautifulSoup(response.text, 'html.parser')\n",
    "    recipes = soup.find_all('div', class_='fixed-recipe-card__info')\n",
    "    for recipe in recipes:\n",
    "        title = recipe.find('span', class_='fixed-recipe-card__title-link').text\n",
    "        print(title)\n",
    "\n",
    "def vegetarian(url):\n",
    "    response = requests.get(url)\n",
    "    soup = BeautifulSoup(response.text, 'html.parser')\n",
    "    recipes = soup.find_all('div', class_='fixed-recipe-card__info')\n",
    "    for recipe in recipes:\n",
    "        title = recipe.find('span', class_='fixed-recipe-card__title-link').text\n",
    "        print(title)\n",
    "\n",
    "def keto(url):\n",
    "    response = requests.get(url)\n",
    "    soup = BeautifulSoup(response.text, 'html.parser')\n",
    "    recipes = soup.find_all('div', class_='fixed-recipe-card__info')\n",
    "    for recipe in recipes:\n",
    "        title = recipe.find('span', class_='fixed-recipe-card__title-link').text\n",
    "        print(title)\n",
    "\n",
    "def lowfodmap(url):\n",
    "    response = requests.get(url)\n",
    "    soup = BeautifulSoup(response.text, 'html.parser')\n",
    "    recipes = soup.find_all('div', class_='fixed-recipe-card__info')\n",
    "    for recipe in recipes:\n",
    "        title = recipe.find('span', class_='fixed-recipe-card__title-link').text\n",
    "        print(title)\n",
    "\n",
    "gluten_url = 'https://www.allrecipes.com/recipes/741/healthy-recipes/gluten-free/'\n",
    "vegan_url = 'https://www.skinnytaste.com/recipe-index/'\n",
    "vegetarian_url = 'https://www.allrecipes.com/recipes/87/everyday-cooking/vegetarian/'\n",
    "keto_url = 'https://www.allrecipes.com/recipes/22959/healthy-recipes/keto-diet/'\n",
    "fodmap_url = 'https://www.monashfodmap.com/recipe/monash-low-fodmap-recipe-index/'\n",
    "\n",
    "gluten_recipes = gluten_free(gluten_url)\n",
    "vegan_recipes = vegan(vegan_url)\n",
    "vegetarian_recipes = vegetarian(vegetarian_url)\n",
    "keto_recipes = keto(keto_url)\n",
    "lowfodmap_recipes = lowfodmap(fodmap_url)\n",
    "\n",
    "\n"
   ]
  },
  {
   "cell_type": "code",
   "execution_count": 4,
   "metadata": {},
   "outputs": [],
   "source": [
    "welcome_prompt = '''You are a LLM chatbot that is helping users with complex diets figure out mealplans to suite their lifestyle. You can assist by\n",
    "1. Calculating TDEE (type 'TDEE or tdee')\n",
    "2. Creating a meal plan for specific diets (type 'meal plan')\n",
    " '''\n",
    "\n",
    "user_welcome = '''Hello! I am a chatbot that can help you with your meal planning and calculating macro needs. I can help you with gluten-free, vegan, vegetarian, keto, and low fodmap recipes.'''\n",
    "\n"
   ]
  },
  {
   "cell_type": "code",
   "execution_count": 10,
   "metadata": {},
   "outputs": [
    {
     "name": "stdout",
     "output_type": "stream",
     "text": [
      "Hello! I am a chatbot that can help you with your meal planning and calculating macro needs. I can help you with gluten-free, vegan, vegetarian, keto, and low fodmap recipes.\n",
      "type: tdee, mealplan, or exit\n"
     ]
    },
    {
     "name": "stderr",
     "output_type": "stream",
     "text": [
      "Setting `pad_token_id` to `eos_token_id`:None for open-end generation.\n",
      "/Library/Frameworks/Python.framework/Versions/3.12/lib/python3.12/site-packages/transformers/generation/utils.py:1375: UserWarning: Using the model-agnostic default `max_length` (=20) to control the generation length. We recommend setting `max_new_tokens` to control the maximum length of the generation.\n",
      "  warnings.warn(\n"
     ]
    },
    {
     "name": "stdout",
     "output_type": "stream",
     "text": [
      "LLM: tdeee, teddy bear\n",
      "Hello! I am a chatbot that can help you with your meal planning and calculating macro needs. I can help you with gluten-free, vegan, vegetarian, keto, and low fodmap recipes.\n",
      "type: tdee, mealplan, or exit\n"
     ]
    }
   ],
   "source": [
    "while True:\n",
    "    print(user_welcome)\n",
    "    print('type: tdee, mealplan, or exit')\n",
    "    user_input = input(\"User: \")\n",
    "    if user_input == 'exit':\n",
    "        break\n",
    "    response = ai(user_input)\n",
    "    print(\"LLM:\", response[0]['generated_text'])\n",
    "if user_input == 'tdee':\n",
    "    print('ai: calculating TDEE')\n",
    "    tdee_prompt =f''' When the user asks about their TDEE, you will:\n",
    "1. Acquire details from the user about their age, gender, weight, height, and activity level. Ask for\n",
    "    1. Age\n",
    "    2. weight in kilograms\n",
    "    3. height in centimeters\n",
    "    4. gender\n",
    "    5. activity level\n",
    "2. Calculate their tdee using:\n",
    "    - BMR (men) = 10 * weight(kg) + 6.25 * height(cm) - 5 * age +5\n",
    "    - BMR (women) = 10 * weight(kg) + 6.25 * height(cm) - 5 * age - 161\n",
    "    - activity level:\n",
    "        - sedentary (little or no exercise) = 1.2\n",
    "        - lightly active (light exercise/sports 1-3 days/week) = 1.375\n",
    "        - moderately active (moderate exercise/sports 3-5 days/week) = 1.55\n",
    "        - very active (hard exercise/sports 6-7 days a week) = 1.725\n",
    "        - super active (very hard exercise & physical job or 2x training) = 1.9\n",
    "        given the activity level, multiply the BMR by the number associated with the activity level given above.\n",
    "    - TDEE = BMR * activity level\n",
    "3. Provide the user with their TDEE'''\n",
    "    \n",
    "    age = int(input('enter your age: '))\n",
    "    weight=int(input('Enter your weight in kilograms: '))\n",
    "    height = input(int('Enter your height in centimeters: '))\n",
    "    activity_level = input(int('Enter your activity level: '))\n",
    "    if activity_level in ['sedentary', 'lightly active', 'moderately active', 'very active', 'super active']:\n",
    "            bmr = 10 * weight + 6.25 * height - 5 * age\n",
    "            if activity_level == 'sedentary':\n",
    "                tdee = bmr * 1.2\n",
    "            elif activity_level == 'lightly active':\n",
    "                tdee = bmr * 1.375\n",
    "            elif activity_level == 'moderately active':\n",
    "                tdee = bmr * 1.55\n",
    "            elif activity_level == 'very active':\n",
    "                tdee = bmr * 1.725\n",
    "            elif activity_level == 'super active':\n",
    "                tdee = bmr * 1.9\n",
    "            print(f\"Your TDEE is: {tdee:.2f} calories/day\")\n",
    "    else:\n",
    "        print('ai: did not follow directions.')\n",
    "    \n",
    "elif user_input == 'mealplan':\n",
    "    tasks = \"Create meal plan\"\n",
    "    \n",
    "    allergy = input(\"ai: What are your dietary restrictions? \")\n",
    "    if allergy == 'gluten free' or 'gluten-free':\n",
    "        recipes = gluten_recipes\n",
    "    elif allergy == 'vegan':\n",
    "        recipes = vegan_recipes\n",
    "    elif allergy == 'vegetarian':\n",
    "        recipes = vegetarian_recipes\n",
    "    elif allergy == 'keto':\n",
    "        recipes = keto_recipes\n",
    "    elif allergy == 'low fodmap':\n",
    "        recipes = lowfodmap_recipes\n",
    "    else:\n",
    "        print(\"I'm sorry, I don't have recipes for that diet\")\n",
    "        recipes = []\n",
    "    if recipes:\n",
    "        meal_plan_prompt = f'''When the user asks for a meal plan, you will:\n",
    "            1. Ask for the user's dietary restrictions.\n",
    "            The user now has {allergy} restrictions.\n",
    "            {', '.join(recipes)}\n",
    "            3. For each mealplan, provide three meals and a snack for each day of the week\n",
    "        '''\n",
    "\n"
   ]
  },
  {
   "cell_type": "code",
   "execution_count": null,
   "metadata": {},
   "outputs": [],
   "source": []
  },
  {
   "cell_type": "code",
   "execution_count": 6,
   "metadata": {},
   "outputs": [
    {
     "name": "stdout",
     "output_type": "stream",
     "text": [
      "Hello. I am capable of \n",
      "1. Calculating TDEE\n",
      "2. Creating a meal plan\n",
      "3. Figuring out best diet for your medical needs.\n"
     ]
    }
   ],
   "source": [
    "# start the conversation\n",
    "convo = [{'role': 'system', 'content': welcome_prompt}]\n",
    "print('Bot: Hello. I am capable of \\n1. Calculating TDEE (type 1)\\n2. Creating a meal plan (type 2) \\n3. exit')"
   ]
  },
  {
   "cell_type": "code",
   "execution_count": 12,
   "metadata": {},
   "outputs": [
    {
     "name": "stderr",
     "output_type": "stream",
     "text": [
      "Setting `pad_token_id` to `eos_token_id`:None for open-end generation.\n"
     ]
    },
    {
     "name": "stdout",
     "output_type": "stream",
     "text": [
      "Bot:  To calculate, please provide me first with your \n",
      "        1. Age\n",
      "        2. Weight in kg\n",
      "        3. Height in cm\n",
      "        4. Activity level (Sedentary, Lightly Active, Moderately Active, Very Active, Super Active)\n",
      "Bot: Hm. Are you sure? That does not sound like one of the options I gave. Here is a second chance: \n",
      "1. Calculating TDEE (type 1)\n",
      "2. Creating a meal plan (type 2) \n",
      "3. exit\n",
      "AI: system: You are a LLM chatbot that is helping users with complex diets figure out mealplans to suite their lifestyle. You can assist by\n",
      "1. Calculating TDEE\n",
      "2. Creating a meal plan\n",
      "3. Figuring out best diet for their medical needs.  user: 3 user: 1 user: tdee user: tdee user: tdee user: 3 user: tdee\n"
     ]
    },
    {
     "name": "stderr",
     "output_type": "stream",
     "text": [
      "Setting `pad_token_id` to `eos_token_id`:None for open-end generation.\n"
     ]
    },
    {
     "name": "stdout",
     "output_type": "stream",
     "text": [
      "Bot: Hm. Are you sure? That does not sound like one of the options I gave. Here is a second chance: \n",
      "1. Calculating TDEE (type 1)\n",
      "2. Creating a meal plan (type 2) \n",
      "3. exit\n",
      "AI: system: You are a LLM chatbot that is helping users with complex diets figure out mealplans to suite their lifestyle. You can assist by\n",
      "1. Calculating TDEE\n",
      "2. Creating a meal plan\n",
      "3. Figuring out best diet for their medical needs.  user: 3 user: 1 user: tdee user: tdee user: tdee user: 3 user: tdee user: user : user : user : user : user : user : user : user : user : user : user : user : user : user : user : user : user :\n"
     ]
    }
   ],
   "source": [
    "# creating a LLM loop\n",
    "\n",
    "while True:\n",
    "    # getting user input\n",
    "    user_input = input('You: ').strip.lower()\n",
    "    convo.append({'role': 'user', 'content': user_input})\n",
    "    if user_input == '3':\n",
    "        break\n",
    "\n",
    "    if 'tdee' in user_input:\n",
    "        tdee_given = ''' To calculate, please provide me first with your \n",
    "        1. Age\n",
    "        2. Weight in kg\n",
    "        3. Height in cm\n",
    "        4. Activity level (Sedentary, Lightly Active, Moderately Active, Very Active, Super Active)'''\n",
    "        print(f'Bot: {tdee_given}')\n",
    "\n",
    "    if 'meal' in user_input:\n",
    "        meal_plan_prompt = '''To create a meal plan, please provide me with the following information:\n",
    "        1. How many meals per day\n",
    "        2. Calorie goal/TDEE\n",
    "        3. Any dietary restrictions'''\n",
    "        print(f'Bot: {meal_plan_prompt}')\n",
    "    else: \n",
    "        print('Bot: Hm. Are you sure? That does not sound like one of the options I gave. Here is a second chance: \\n1. Calculating TDEE (type 1)\\n2. Creating a meal plan (type 2) \\n3. exit')\n",
    "    response = ai(\" \".join([f\"{c['role']}: {c['content']}\" for c in convo]), max_length=200)\n",
    "    \n",
    "    # Show the LLM's response\n",
    "    ai_reply = response[0][\"generated_text\"]\n",
    "    print(f\"AI: {ai_reply}\")"
   ]
  },
  {
   "cell_type": "code",
   "execution_count": 8,
   "metadata": {},
   "outputs": [],
   "source": [
    "tdee_prompt=''' When the user asks about their TDEE, you will:\n",
    "1. Acquire details from the user about their age, gender, weight, height, and activity level.\n",
    "2. Ask about their goal (weight loss, maintenance, or weight gain).\n",
    "3. Calculate their tdee using:\n",
    "    - BMR (men) = 10 * weight(kg) + 6.25 * height(cm) - 5 * age +5\n",
    "    - BMR (women) = 10 * weight(kg) + 6.25 * height(cm) - 5 * age - 161\n",
    "    - activity level:\n",
    "        - sedentary (little or no exercise) = 1.2\n",
    "        - lightly active (light exercise/sports 1-3 days/week) = 1.375\n",
    "        - moderately active (moderate exercise/sports 3-5 days/week) = 1.55\n",
    "        - very active (hard exercise/sports 6-7 days a week) = 1.725\n",
    "        - super active (very hard exercise & physical job or 2x training) = 1.9\n",
    "    - TDEE = BMR * activity level\n",
    "    4. Provide the user with their TDEE and ask if they would like help with meal planning.'''"
   ]
  },
  {
   "cell_type": "code",
   "execution_count": 4,
   "metadata": {},
   "outputs": [],
   "source": [
    "user_input = input(\"You: \")\n",
    "tdee_prompt = '''Extract the user's information from '{user_input} '''"
   ]
  }
 ],
 "metadata": {
  "kernelspec": {
   "display_name": "Python 3",
   "language": "python",
   "name": "python3"
  },
  "language_info": {
   "codemirror_mode": {
    "name": "ipython",
    "version": 3
   },
   "file_extension": ".py",
   "mimetype": "text/x-python",
   "name": "python",
   "nbconvert_exporter": "python",
   "pygments_lexer": "ipython3",
   "version": "3.12.0"
  }
 },
 "nbformat": 4,
 "nbformat_minor": 2
}
